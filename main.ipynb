{
 "cells": [
  {
   "cell_type": "markdown",
   "metadata": {},
   "source": [
    "# Source Localization with MNE/dSPM/sLORETA/eLORETA"
   ]
  },
  {
   "cell_type": "markdown",
   "metadata": {},
   "source": [
    "### Import the libraries"
   ]
  },
  {
   "cell_type": "code",
   "execution_count": null,
   "metadata": {},
   "outputs": [],
   "source": [
    "from Preprocess import *\n",
    "from Plot import *\n",
    "from Modelling import *\n",
    "from Statistics import *\n",
    "\n",
    "from mayavi import mlab\n",
    "mlab.init_notebook()\n",
    "\n",
    "%matplotlib inline"
   ]
  },
  {
   "cell_type": "markdown",
   "metadata": {},
   "source": [
    "### Obtain the directories of subject and FS_average"
   ]
  },
  {
   "cell_type": "code",
   "execution_count": null,
   "metadata": {},
   "outputs": [],
   "source": [
    "trans, src, bem, subjects_dir = get_FS_data()\n",
    "\n",
    "print('\\ntran directory: ', trans)\n",
    "print('src directory: ', src)\n",
    "print('bem directory: ', bem)\n",
    "print('subjects_dir directory: ', subjects_dir)"
   ]
  },
  {
   "cell_type": "markdown",
   "metadata": {},
   "source": [
    "### Load all the raw data for both cursor and robot"
   ]
  },
  {
   "cell_type": "code",
   "execution_count": null,
   "metadata": {
    "scrolled": true
   },
   "outputs": [],
   "source": [
    "subject_to_process = ['s02', 's03', 's04', 's05', 's06', 's07', 's08', 's09', 's10', 's11', 's12', 's13']\n",
    "\n",
    "# Load the raw data for cursor\n",
    "dataset = 'cursor'\n",
    "raw_data_list_cursor, events_list_cursor = load_raw_data(subject_to_process, dataset)\n",
    "\n",
    "# Load the raw data for robot\n",
    "dataset = 'robot'\n",
    "raw_data_list_robot, events_list_robot = load_raw_data(subject_to_process, dataset)"
   ]
  },
  {
   "cell_type": "markdown",
   "metadata": {},
   "source": [
    "### Obtain the raw data and the events"
   ]
  },
  {
   "cell_type": "code",
   "execution_count": null,
   "metadata": {},
   "outputs": [],
   "source": [
    "# Obtain the raw event dictionary for cursor\n",
    "raw_event_dict_cursor = obtain_data(subject_to_process, raw_data_list_cursor, events_list_cursor)\n",
    "\n",
    "# Obtain the raw event dictionary for robot\n",
    "raw_event_dict_robot = obtain_data(subject_to_process, raw_data_list_robot, events_list_robot)"
   ]
  },
  {
   "cell_type": "markdown",
   "metadata": {},
   "source": [
    "### Create epochs for subjects"
   ]
  },
  {
   "cell_type": "code",
   "execution_count": null,
   "metadata": {
    "scrolled": true
   },
   "outputs": [],
   "source": [
    "# Obtain the data for cursor\n",
    "data_cursor = create_epochs(raw_event_dict_cursor, subject_to_process, tmin=-0.2, tmax=0.8, nonError='S  4', error='S  6')\n",
    "\n",
    "# Obtain the data for robot\n",
    "data_robot = create_epochs(raw_event_dict_robot, subject_to_process, tmin=-0.2, tmax=0.8, nonError='S  4', error='S  6')"
   ]
  },
  {
   "cell_type": "markdown",
   "metadata": {},
   "source": [
    "### Create grand average"
   ]
  },
  {
   "cell_type": "code",
   "execution_count": null,
   "metadata": {},
   "outputs": [],
   "source": [
    "# Obtain the grand average cache for cursor\n",
    "grand_average_cache_cursor = compute_grand_average(data_cursor, subject_to_process)\n",
    "\n",
    "# Obtain the grand average cache for robot\n",
    "grand_average_cache_robot = compute_grand_average(data_robot, subject_to_process)"
   ]
  },
  {
   "cell_type": "markdown",
   "metadata": {},
   "source": [
    "### Plot Cz data"
   ]
  },
  {
   "cell_type": "code",
   "execution_count": null,
   "metadata": {},
   "outputs": [],
   "source": [
    "save = False\n",
    "\n",
    "# Obtain the Cz channel data\n",
    "cz_data_cache = obtain_cz_cache(grand_average_cache_cursor, grand_average_cache_robot)\n",
    "\n",
    "# Plot the Cz channel data\n",
    "plot_cz_data(cz_data_cache, save)"
   ]
  },
  {
   "cell_type": "markdown",
   "metadata": {},
   "source": [
    "### Generate grand average topomap"
   ]
  },
  {
   "cell_type": "code",
   "execution_count": null,
   "metadata": {},
   "outputs": [],
   "source": [
    "date_type ='contrast'\n",
    "save = False\n",
    "\n",
    "# Compute the grand_average_cache again\n",
    "grand_average_cache_cursor = compute_grand_average(data_cursor, subject_to_process)\n",
    "grand_average_cache_robot = compute_grand_average(data_robot, subject_to_process)\n",
    "\n",
    "# Plot the grand average topomap for both cursor and robot\n",
    "grand_avg_topomap(grand_average_cache_cursor, grand_average_cache_robot, cz_data_cache, date_type, save)"
   ]
  },
  {
   "cell_type": "markdown",
   "metadata": {},
   "source": [
    "### Plot grand average (Time Montage)"
   ]
  },
  {
   "cell_type": "code",
   "execution_count": null,
   "metadata": {
    "scrolled": true
   },
   "outputs": [],
   "source": [
    "# Set the grand average parameters\n",
    "grand_average_parameters = {'data_type': 'contrast',\n",
    "                            'method': 'eLORETA',\n",
    "                            'vector': False,\n",
    "                            'cz_data_cache': cz_data_cache,                            \n",
    "                            'selected_view': 'medial',\n",
    "                            'data_type': 'contrast',\n",
    "                            'hemisphere': 'lh',\n",
    "                            'save_time_montage': True}\n",
    "\n",
    "# Plot the time montage for both cursor and robot\n",
    "plot_time_montage(grand_average_cache_cursor, grand_average_cache_robot, grand_average_parameters, trans, src, bem, subjects_dir)"
   ]
  },
  {
   "cell_type": "markdown",
   "metadata": {},
   "source": [
    "### Plot peak activation in volume source space"
   ]
  },
  {
   "cell_type": "code",
   "execution_count": null,
   "metadata": {
    "scrolled": true
   },
   "outputs": [],
   "source": [
    "modelling_parameters = {'pos': 5.0, 'threshold': 1.6,\n",
    "                        'method': 'eLORETA', 'save': False}\n",
    "\n",
    "plot_vol_source_space(grand_average_cache_cursor, grand_average_cache_robot, cz_data_cache, modelling_parameters, trans, bem, subjects_dir)"
   ]
  },
  {
   "cell_type": "markdown",
   "metadata": {},
   "source": [
    "### Save single image"
   ]
  },
  {
   "cell_type": "code",
   "execution_count": null,
   "metadata": {
    "scrolled": true
   },
   "outputs": [],
   "source": [
    "grand_average_parameters = {'data_type': 'contrast',\n",
    "                            'method': 'eLORETA',\n",
    "                            'vector': False,\n",
    "                            'cz_data_cache': cz_data_cache,\n",
    "                            'selected_view': 'lateral',\n",
    "                            'hemisphere': 'rh',\n",
    "                            'save': True}\n",
    "\n",
    "save_single_image(grand_average_cache_cursor, grand_average_cache_robot, grand_average_parameters, trans, src, bem, subjects_dir)"
   ]
  },
  {
   "cell_type": "markdown",
   "metadata": {},
   "source": [
    "### Save view montage"
   ]
  },
  {
   "cell_type": "code",
   "execution_count": null,
   "metadata": {
    "scrolled": true
   },
   "outputs": [],
   "source": [
    "grand_average_parameters = {'data_type': 'contrast',\n",
    "                            'method': 'dSPM',\n",
    "                            'vector': True,\n",
    "                            'cz_data_cache': cz_data_cache,\n",
    "                            'hemisphere': 'lh',\n",
    "                            'save_view_montage': False}\n",
    "\n",
    "save_view_montage(grand_average_cache_cursor, grand_average_cache_robot, grand_average_parameters, trans, src, bem, subjects_dir)"
   ]
  },
  {
   "cell_type": "markdown",
   "metadata": {},
   "source": [
    "### Delete data to free up memory"
   ]
  },
  {
   "cell_type": "code",
   "execution_count": null,
   "metadata": {},
   "outputs": [],
   "source": [
    "del raw_event_dict_cursor, raw_event_dict_robot, events_list_cursor, events_list_robot"
   ]
  },
  {
   "cell_type": "markdown",
   "metadata": {},
   "source": [
    "### Perform Statistical Analysis"
   ]
  },
  {
   "cell_type": "code",
   "execution_count": null,
   "metadata": {
    "scrolled": true
   },
   "outputs": [],
   "source": [
    "vector = False\n",
    "method = 'eLORETA'# 'dSPM' 'MNE' 'sLORETA' 'eLORETA'\n",
    "\n",
    "# Obtain data to perform statistics\n",
    "data_array, parameter_cache = obtain_statistical_data(data_cursor, data_robot, subject_to_process, method, vector, trans, src, bem)"
   ]
  },
  {
   "cell_type": "code",
   "execution_count": null,
   "metadata": {},
   "outputs": [],
   "source": [
    "# Morph the subject brain to fs average brain\n",
    "morphed_data, parameter_cache = morph_data(data_array, parameter_cache, vector, subjects_dir)\n",
    "del data_array"
   ]
  },
  {
   "cell_type": "code",
   "execution_count": null,
   "metadata": {},
   "outputs": [],
   "source": [
    "# Perform statistics on the morphed data\n",
    "clu, good_cluster_inds = perform_statistics(morphed_data, parameter_cache, vector, p_value = 0.001)"
   ]
  },
  {
   "cell_type": "markdown",
   "metadata": {},
   "source": [
    "### Visualize the Statistics"
   ]
  },
  {
   "cell_type": "code",
   "execution_count": null,
   "metadata": {},
   "outputs": [],
   "source": [
    "epsilon = {'1_min': 15, '1_max': 15, '2_min': 10, '2_max': 10, '3_min': 20, '3_max': 30, '4_min': 40, '4_max': 40}\n",
    "           \n",
    "modelling_parameters = {'hemisphere': 'lh', 'selected_view': 'medial',\n",
    "                        'save': True, 'epsilon': epsilon_list,\n",
    "                        'vector': False}\n",
    "\n",
    "visualize_cluster(clu, cz_data_cache, parameter_cache, modelling_parameters, subjects_dir)"
   ]
  }
 ],
 "metadata": {
  "kernelspec": {
   "display_name": "Python 3",
   "language": "python",
   "name": "python3"
  },
  "language_info": {
   "codemirror_mode": {
    "name": "ipython",
    "version": 3
   },
   "file_extension": ".py",
   "mimetype": "text/x-python",
   "name": "python",
   "nbconvert_exporter": "python",
   "pygments_lexer": "ipython3",
   "version": "3.7.4"
  }
 },
 "nbformat": 4,
 "nbformat_minor": 1
}